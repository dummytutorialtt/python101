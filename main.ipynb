{
 "cells": [
  {
   "cell_type": "markdown",
   "metadata": {
    "collapsed": true,
    "deletable": true,
    "editable": true
   },
   "source": [
    "# Introduction to Python, Data analytics and Financial app development\n",
    "\n",
    "<img src=\"https://raw.githubusercontent.com/dummytutorialtt/python101/master/image/demo.gif\" style=\"width=100;\"/>\n",
    "\n",
    "## Python 介紹\n",
    "\n",
    "Python 是一種 `高級程式` 設計語言，屬於通用型程式設計語言。Python的設計強調簡潔的語法（尤其是使用空格縮進劃分代碼塊，而非使用大括弧或者關鍵字）。相比於C++或Java，Python讓開發者能夠用更少的代碼表達想法。不管是小型還是大型程式，該語言都試圖讓程式的結構清晰明瞭。\n",
    "\n",
    "`高級程式` : 以人類的日常語言為基礎的一種編程語言, 低階語言的例子有 C, Java\n",
    "\n",
    "source : https://zh.wikipedia.org/wiki/Python\n",
    "\n",
    "## Jupyter Notebook 介紹\n",
    "\n",
    "Jupyter Notebook 是一個線上 `Python` 程式設計環境，每行的代碼在敲擊 `Shift + Enter` 後單獨執行，可以將程式開發的過程連同程式碼、說明文字及圖示、運算結果，甚至是影片都完整的記錄下來，還可以重覆編輯、修改和執行。\n",
    "\n",
    "source : http://jupyter-notebook.readthedocs.io/en/stable/examples/Notebook/What%20is%20the%20Jupyter%20Notebook.html\n",
    "\n",
    "example :http://nbviewer.jupyter.org/github/nborwankar/LearnDataScience/blob/master/notebooks/A1.%20Linear%20Regression%20-%20Overview.ipynb"
   ]
  },
  {
   "cell_type": "markdown",
   "metadata": {
    "deletable": true,
    "editable": true
   },
   "source": [
    "不少人學了基本語法之後，一直無法進入資料分析的領域。今天我們會介紹 Python 資料分析重要套件\n",
    "\n",
    "目錄\n",
    "\n",
    "* Part 1 - 基本語法 / Python syntax and data types \n",
    "\n",
    "* - 簡單資料類型 Simple Data Type : Int, Float, String\n",
    "* - 複雜資料類型 Data Structure : List, Dictionary\n",
    "* - 函數 function 與 流程控制 control flow\n",
    "\n",
    "\n",
    "* Part 2 - 資料分析重要套件 / Python open source library\n",
    "\n",
    "* - 表格資料整理 Pandas\n",
    "* - 互動用戶介面 Ipywidget\n",
    "\n",
    "\n",
    "* Part 3 - 彭博計量金融工具 Bloomberg Exclusive library\n",
    "\n",
    "* - 彭博數據庫 BQL\n",
    "* - 回測與金融分析工具 bqfactor, bq\n",
    "* - 互動板面與圖像 bqwidget, bqplot, bqviz\n",
    "\n",
    "\n",
    "* Part 4 - Capstone Project\n",
    "\n",
    "* - 盈餘意外行業分析"
   ]
  },
  {
   "cell_type": "markdown",
   "metadata": {
    "deletable": true,
    "editable": true
   },
   "source": [
    "## 編程儲存格 (Code Cell) 裡面可以輸入程式碼\n",
    "\n",
    "使用 `Shift-Enter` 去運行 code cell, 或者從功能表下方按 <button class='btn btn-default btn-xs'><i class=\"icon-step-forward fa fa-step-forward\"></i></button> :\n",
    "\n",
    "使用 `Alt-Enter` 去運行並插入一個新的cell :\n",
    "\n",
    "使用 `B` 去直接插入一個新的cell :"
   ]
  },
  {
   "cell_type": "code",
   "execution_count": null,
   "metadata": {
    "collapsed": false,
    "deletable": true,
    "editable": true
   },
   "outputs": [],
   "source": [
    "a = 10"
   ]
  },
  {
   "cell_type": "code",
   "execution_count": null,
   "metadata": {
    "collapsed": false,
    "deletable": true,
    "editable": true
   },
   "outputs": [],
   "source": [
    "print(a)"
   ]
  },
  {
   "cell_type": "markdown",
   "metadata": {
    "deletable": true,
    "editable": true
   },
   "source": [
    "#### 如果發現系統錯誤, 需要重新開啟Notebook, 可以使用\"Kernal -> Restart and clear output\""
   ]
  },
  {
   "cell_type": "markdown",
   "metadata": {
    "deletable": true,
    "editable": true
   },
   "source": [
    "## Part 1 - Python syntax and data types\n",
    "\n",
    "基本 Hello World \n",
    "\n",
    "* 使用 # Comment\n",
    "* 使用 print() function / 函数\n",
    "\n",
    "```python\n",
    "# This is a comment\n",
    "print(\"Hello World\")\n",
    "```\n",
    "\n",
    "變數 Variable\n",
    "\n",
    "* 使用 ```變數 = 資料``` 去把資料傳給我們自己定義的名稱, 之後我們就可以直接使用變數去使用那個資料\n",
    "\n",
    "```python\n",
    "my_name = 'Tony Stark'\n",
    "print(my_name)\n",
    "```"
   ]
  },
  {
   "cell_type": "code",
   "execution_count": null,
   "metadata": {
    "collapsed": false,
    "deletable": true,
    "editable": true
   },
   "outputs": [],
   "source": []
  },
  {
   "cell_type": "markdown",
   "metadata": {
    "deletable": true,
    "editable": true
   },
   "source": [
    "### 資料類型 Data Type 　\n",
    "\n",
    "<img src=\"https://raw.githubusercontent.com/dummytutorialtt/python101/master/image/built_in_types.png\" style=\"width=600px;\"/>"
   ]
  },
  {
   "cell_type": "markdown",
   "metadata": {
    "deletable": true,
    "editable": true
   },
   "source": [
    "### Numbers 數字 ###\n",
    "\n",
    "* `int` 和 `float` (只支持整數 / 支持小數)\n",
    "\n",
    "Integers　沒有小數\n",
    "```python\n",
    "54\n",
    "-13\n",
    "```\n",
    "\n",
    "Floats 有小數 : 以下全都是 float. *Try this:*\n",
    "\n",
    "```python\n",
    "1.23\n",
    "1.\n",
    "```\n",
    "\n",
    "可以使用 type() 去檢查資料類型. *Try this:*\n",
    "\n",
    "```python\n",
    "print(type(555))\n",
    "print(type(-45.8787))\n",
    "```\n",
    "\n"
   ]
  },
  {
   "cell_type": "code",
   "execution_count": null,
   "metadata": {
    "collapsed": false,
    "deletable": true,
    "editable": true
   },
   "outputs": [],
   "source": []
  },
  {
   "cell_type": "markdown",
   "metadata": {
    "deletable": true,
    "editable": true
   },
   "source": [
    "### Calculation 計算 ###\n",
    "```python\n",
    "2 * 5 + 3 / 4 ** 8 - 1\n",
    "\n",
    "5/2\n",
    "\n",
    "x = 7\n",
    "y = 4\n",
    "\n",
    "x < y\n",
    "x >= y\n",
    "x == y\n",
    "\n",
    "z = x + y\n",
    "```"
   ]
  },
  {
   "cell_type": "code",
   "execution_count": null,
   "metadata": {
    "collapsed": true,
    "deletable": true,
    "editable": true
   },
   "outputs": [],
   "source": []
  },
  {
   "cell_type": "markdown",
   "metadata": {
    "deletable": true,
    "editable": true
   },
   "source": [
    "### String 文字 ###\n",
    "\n",
    "你可以使用單引號 ' ' 或者是雙引號 \"\" 去定義文字\n",
    "\n",
    "```python\n",
    "s = \"I am great\"\n",
    "```\n",
    "\n",
    "連接文字\n",
    "\n",
    "```python\n",
    "\"hello\" + \"world\"\n",
    "```"
   ]
  },
  {
   "cell_type": "code",
   "execution_count": null,
   "metadata": {
    "collapsed": false,
    "deletable": true,
    "editable": true
   },
   "outputs": [],
   "source": []
  },
  {
   "cell_type": "markdown",
   "metadata": {
    "deletable": true,
    "editable": true
   },
   "source": [
    "### 總結 ###\n",
    "\n",
    "* 使用 # 去 Comment\n",
    "* 使用 print() 去顯示結果 / 變數的值在 Out Box 裡\n",
    "* 使用 type() 去顯示資料類型\n",
    "* 可以在 function 裡面使用 function e.g. print( type( variable ) ) "
   ]
  },
  {
   "cell_type": "markdown",
   "metadata": {
    "deletable": true,
    "editable": true
   },
   "source": [
    "### 閱讀文字 ###\n",
    "\n",
    "Python 的文字都是序列 (sequence).\n",
    "\n",
    "序列 (sequence) 的詳細說明 : https://docs.python.org/2.4/lib/typesseq.html\n",
    "\n",
    "### 序列 ###\n",
    "\n",
    "當一個變數是序列又代表了甚麼?\n",
    "\n",
    "\n",
    "#### 1. len() 元素長度\n",
    "\n",
    "```python\n",
    "print(len('abc'))\n",
    "\n",
    "```\n",
    "\n",
    "#### 2. 支持迴圈 iterate, 讓我們可以遍歷(iterate over)文字內的元素\n",
    "\n",
    "```python\n",
    "for each_char in 'abc':\n",
    "    print(each_char)\n",
    "    \n",
    "```"
   ]
  },
  {
   "cell_type": "code",
   "execution_count": null,
   "metadata": {
    "collapsed": true,
    "deletable": true,
    "editable": true
   },
   "outputs": [],
   "source": []
  },
  {
   "cell_type": "markdown",
   "metadata": {
    "deletable": true,
    "editable": true
   },
   "source": [
    "\n",
    "#### 3. 我們可以使用索引 / 範圍 (indexing / slicing) 去取得一個文字中的部份的字符\n",
    "\n",
    "在電腦科學世界，index 通常是從 0 開始\n",
    "\n",
    "<img src=\"https://github.com/dummytutorialtt/python101/blob/master/image/len.JPG?raw=true\" style=\"width:600px;\" />\n",
    "\n",
    "```python\n",
    "ticker = '2330TTEquity'\n",
    "\n",
    "ticker[0] # return '2'\n",
    "```\n",
    "\n",
    "使用 variable [ number1 : number2 ] 可以取得一個範圍的內容\n",
    "\n",
    "* number1 : 從 0 開始數\n",
    "* number2 : 從 1 開始數\n",
    "\n",
    "```\n",
    "ticker[:] # return '2330TTEquity'\n",
    "ticker[2:] # return '30TTEquity'\n",
    "ticker[:5] # return '2330T'\n",
    "ticker[5:7] # return 'TE'\n",
    "```\n",
    "\n",
    "*練習:*\n",
    "\n",
    "使用 1 個文字索引, 把股票的國家代碼顯示 (print) 出來 :\n",
    "\n",
    "`\n",
    "TT\n",
    "`"
   ]
  },
  {
   "cell_type": "code",
   "execution_count": null,
   "metadata": {
    "collapsed": false,
    "deletable": true,
    "editable": true
   },
   "outputs": [],
   "source": [
    "ticker = '2330TTEquity'\n",
    "#======練習 (把你的編碼填在這裡)======\n",
    "print()\n",
    "#======練習 (把你的編碼填在這裡)======"
   ]
  },
  {
   "cell_type": "markdown",
   "metadata": {
    "deletable": true,
    "editable": true
   },
   "source": [
    "### 複雜資料類型 - 數據結構 (Data Structure)\n",
    "\n",
    "數據結構代表存儲、組織數據的方式, 我們通常會使用 Dict 和 List\n",
    "\n",
    "### 串列 list ###\n",
    "\n",
    "串列是一連串擁有 **順序性** 的元素組成的，我們可以新增、讀取、刪除和修改串列，串列中可以有重複的元素。\n",
    "\n",
    "串列也是序列\n",
    "\n",
    "**序列** : 所以我們可以使用 len(), iterate, indexing 和 slicing\n",
    "\n",
    "\n",
    "** 建立串列 **\n",
    "\n",
    "串列可以透過中括號或是使用 list 關鍵字來創建，裡面元素由逗號分隔\n",
    "\n",
    "```python\n",
    "my_list = list()\n",
    "my_list = []\n",
    "my_list = [1, 2, 3]\n",
    "```\n",
    "\n",
    "使用索引 (index) 和範圍 (slice) 來取得元素\n",
    "\n",
    "```python\n",
    "ticker = ['2330 TT Equity', 'FB US Equity', '700 HK Equity']\n",
    "ticker[0] # 2330 TT Equity\n",
    "ticker[1] # FB US Equity\n",
    "ticker[-1] # 700 HK Equity\n",
    "```"
   ]
  },
  {
   "cell_type": "code",
   "execution_count": null,
   "metadata": {
    "collapsed": true,
    "deletable": true,
    "editable": true
   },
   "outputs": [],
   "source": []
  },
  {
   "cell_type": "markdown",
   "metadata": {
    "deletable": true,
    "editable": true
   },
   "source": [
    "複雜的資料類型還會自帶函數\n",
    "\n",
    "append 元素到串列最後\n",
    "\n",
    "```python\n",
    "ticker = ['2330 TT Equity', 'FB US Equity', '700 HK Equity']\n",
    "ticker.append('6505 TT Equity') # 加6505 TT Equity 到最後\n",
    "```\n",
    "\n",
    "insert 插入元素到位置上\n",
    "\n",
    "```python\n",
    "ticker = ['2330 TT Equity', 'FB US Equity', '700 HK Equity']\n",
    "ticker.insert(0, '6505 TT Equity') # ['6505 TT Equity', '2330 TT Equity', 'FB US Equity', '700 HK Equity']\n",
    "```\n",
    "\n",
    "remove 刪除\n",
    "\n",
    "```python\n",
    "ticker = ['2330 TT Equity', 'FB US Equity', '700 HK Equity']\n",
    "ticker.remove('700 HK Equity') # 餘下 ['2330 TT Equity', 'FB US Equity']\n",
    "```\n",
    "\n",
    "len() 元素長度\n",
    "\n",
    "```python\n",
    "ticker = ['2330 TT Equity', 'FB US Equity', '700 HK Equity']\n",
    "len(ticker) # 3\n",
    "```\n",
    "\n",
    "// ticker.{按一下 Tab} 就可以取得相關函數\n",
    "\n",
    "// 在函數裡, e.g. ticker.insert( {按住 shift 再按 tab} ) 就可以取得函數相關說明"
   ]
  },
  {
   "cell_type": "code",
   "execution_count": null,
   "metadata": {
    "collapsed": true,
    "deletable": true,
    "editable": true
   },
   "outputs": [],
   "source": [
    "# 必須先定義 ticker, 讓 Jupyter notebook 知道 ticker 是一個 list "
   ]
  },
  {
   "cell_type": "code",
   "execution_count": 1,
   "metadata": {
    "collapsed": true,
    "deletable": true,
    "editable": true
   },
   "outputs": [],
   "source": []
  },
  {
   "cell_type": "markdown",
   "metadata": {
    "deletable": true,
    "editable": true
   },
   "source": [
    "\n",
    "*練習:*\n",
    "\n",
    "現在有 ```ccy = ['EUR', 'JPY', 'GBP', 'CAD', 'USD']``` :\n",
    "\n",
    "- 把最後一項'USD'改成'TWD'\n",
    "- 增加 'AUD' 到最後\n",
    "- 把 'JPY' 刪除"
   ]
  },
  {
   "cell_type": "code",
   "execution_count": null,
   "metadata": {
    "collapsed": false,
    "deletable": true,
    "editable": true
   },
   "outputs": [],
   "source": [
    "ccy = ['EUR', 'JPY', 'GBP', 'CAD', 'USD']\n",
    "#======練習 (把你的編碼填在這裡)======\n",
    "\n",
    "#======練習 (把你的編碼填在這裡)======"
   ]
  },
  {
   "cell_type": "markdown",
   "metadata": {
    "deletable": true,
    "editable": true
   },
   "source": [
    "### 字典 dict ###\n",
    "\n",
    "是一個以 ` {'key':'value'} `, \"鍵\" 對應 \"值\" 的關聯式陣列. 只要用戶輸入鍵, 字典就會直接回報相對應的值\n",
    "\n",
    "- 每個鍵必須獨一無二, 但是值可以重複\n",
    "- 字典沒有順序性, 就算程序員根據順序輸入不同數值, 這個順序並不會被保留\n",
    "\n",
    "創建 dict : 使用大括弧或者用使 dict() 函数\n",
    "\n",
    "```python\n",
    "user_infor = {\n",
    "    'name' : 'Tim',\n",
    "    'age' : 23,\n",
    "    'weight' : 30.05,\n",
    "}\n",
    "\n",
    "user_infor = dict([('name','Tim'),('age',23),('weight',30.05)])\n",
    "```\n",
    "\n",
    "新增和取值\n",
    "\n",
    "```python\n",
    "user_infor['job'] = 'Data Analyst' # 加入 {'job' : 'data analyst'}\n",
    "\n",
    "user_infor['name'] # Tim\n",
    "```\n",
    "\n",
    "取代現有值\n",
    "\n",
    "```python\n",
    "user_infor['name'] = 'Jack' # Tim 會轉為 Jack\n",
    "```\n",
    "\n",
    "keys() 取得所有鍵、values() 取得所有值、items() 取得所有鍵值對\n",
    "\n",
    "```python\n",
    "user_infor = {\n",
    "    'name' : 'Tim',\n",
    "    'age' : 23,\n",
    "    'weight' : 30.05,\n",
    "}\n",
    "\n",
    "user_infor.keys() # ['name','age','weight']\n",
    "user_infor.values() # ['Tim', 23, 30.05]\n",
    "user_infor.items() # [('name','Tim'),('age',23),('weight',30.05)]\n",
    "```"
   ]
  },
  {
   "cell_type": "code",
   "execution_count": null,
   "metadata": {
    "collapsed": true,
    "deletable": true,
    "editable": true
   },
   "outputs": [],
   "source": []
  },
  {
   "cell_type": "markdown",
   "metadata": {
    "deletable": true,
    "editable": true
   },
   "source": [
    "### 流程控制 Control Flow ###\n",
    "\n",
    "** 1. if...elif...else... **\n",
    "\n",
    "```python\n",
    "my_score = 90\n",
    "his_score = 80\n",
    "\n",
    "if my_score > his_score:\n",
    "    print(\"I am a better man\")\n",
    "elif my_score == his_score:\n",
    "    print(\"We are having a tie\")\n",
    "else: # 其他的可能性\n",
    "    print(\"I need to be better\")\n",
    "```"
   ]
  },
  {
   "cell_type": "code",
   "execution_count": null,
   "metadata": {
    "collapsed": true,
    "deletable": true,
    "editable": true
   },
   "outputs": [],
   "source": []
  },
  {
   "cell_type": "markdown",
   "metadata": {
    "deletable": true,
    "editable": true
   },
   "source": [
    "** 2. For ... in ... **\n",
    "\n",
    "```python\n",
    "ticker = ['2330 TT Equity', 'FB US Equity', '700 HK Equity']\n",
    "for name in ticker: # 每一個在ticker 內的元素\n",
    "    country = name[-9:-7]\n",
    "    print(\"國家: \", country)\n",
    "    if name == '2330 TT Equity':\n",
    "        print(name, ' is in the search')\n",
    "```"
   ]
  },
  {
   "cell_type": "code",
   "execution_count": null,
   "metadata": {
    "collapsed": true,
    "deletable": true,
    "editable": true
   },
   "outputs": [],
   "source": []
  },
  {
   "cell_type": "markdown",
   "metadata": {
    "deletable": true,
    "editable": true
   },
   "source": [
    "** 3. While ... **\n",
    "\n",
    "使用 `break` 去停止 while loop\n",
    "使用 `pass` 去跳過現在的程序, 進入下一個迴圈\n",
    "\n",
    "```python\n",
    "k=0\n",
    "l=[]\n",
    "while True:\n",
    "    k += 1\n",
    "    if k > 10: # 如果 K > 10, while loop 將會完結\n",
    "        break\n",
    "    if k % 2 == 0: # 如果 K 除以 2 等於 0, 將會直接進入下一個迴圈, 不會把數字加到 list 之中\n",
    "        pass\n",
    "    l.append(k)\n",
    "    \n",
    "```\n",
    "\n",
    "<img src=\"http://www.runoob.com/wp-content/uploads/2013/11/loop-over-python-list-animation.gif\" style=\"width:300px;\" />"
   ]
  },
  {
   "cell_type": "code",
   "execution_count": null,
   "metadata": {
    "collapsed": true,
    "deletable": true,
    "editable": true
   },
   "outputs": [],
   "source": []
  },
  {
   "cell_type": "markdown",
   "metadata": {
    "deletable": true,
    "editable": true
   },
   "source": [
    "### 函數 Function ###\n",
    "\n",
    "定義函數使用關鍵字 (keyword) def ，其後空一格接函數名稱與小括弧，小括弧用來放參數，函數可以有參數 (parameter) 也可以沒有參數，沒有參數的函數的小括弧留空，另外函數可用 return 設定回傳值 (return value) 。\n",
    "\n",
    "```python\n",
    "# with parameter\n",
    "def send_ten():\n",
    "    return 10\n",
    "    \n",
    "get_ten_in_this_var = send_ten()\n",
    "\n",
    "# without parameter\n",
    "def call_my_name(your_name):\n",
    "    print(\"Your name is :\", your_name)\n",
    "    return your_name\n",
    "    \n",
    "my_name = call_my_name('Jim')\n",
    "```\n",
    "\n",
    "函數常見的運用為重複性質的工作\n"
   ]
  },
  {
   "cell_type": "code",
   "execution_count": null,
   "metadata": {
    "collapsed": true,
    "deletable": true,
    "editable": true
   },
   "outputs": [],
   "source": []
  },
  {
   "cell_type": "markdown",
   "metadata": {
    "deletable": true,
    "editable": true
   },
   "source": [
    "\n",
    "*練習:*\n",
    "\n",
    "設計一個函數, 這個函數會讀取一個 `ccy` 的参數,並進行分析\n",
    "\n",
    "- 如果 `ccy` 為 'EUR' 的話, 回傳 'Europe'\n",
    "- 如果 `ccy` 為 'USD' 的話, 回傳 'America'\n",
    "- 如果 `ccy` 為 'CNY' 的話, 回傳 'China'\n"
   ]
  },
  {
   "cell_type": "code",
   "execution_count": null,
   "metadata": {
    "collapsed": false,
    "deletable": true,
    "editable": true
   },
   "outputs": [],
   "source": [
    "ccy = 'EUR'\n",
    "#======練習 (把你的編碼填在這裡)======\n",
    "\n",
    "#======練習 (把你的編碼填在這裡)======"
   ]
  },
  {
   "cell_type": "markdown",
   "metadata": {
    "collapsed": true,
    "deletable": true,
    "editable": true
   },
   "source": [
    "Part 1 總結\n",
    "\n",
    "- 了解 int, float, string\n",
    "- 了解 list, dict\n",
    "- 認識 print , format, type, len 函數\n",
    "- 如果自己設計函數\n",
    "\n",
    "了解更多 Python 基本程序\n",
    "\n",
    "- https://docs.python.org.tw/3/"
   ]
  },
  {
   "cell_type": "markdown",
   "metadata": {
    "deletable": true,
    "editable": true
   },
   "source": [
    "## Part 2 - Open source library 開放原始碼套件\n",
    "\n",
    "<img src=\"http://bigdata.black/wp-content/uploads/2016/05/ds_stack_tools.png\" style=\"width:600px;\" />\n",
    "\n",
    "Python 開發者在完成開發一個工具後, 會在第三方的代碼發佈平臺發佈程式 (比如 https://pypi.org) ,並讓別人下載使用\n",
    "\n",
    "BQuant 除了Bloomberg 獨有的 Date API 和數據分析套件外, 還預先安裝了大部分有關於 Data Science 和 Machine Learning 的套件, \n",
    "\n",
    "- BQL : 取得 Bloomberg 的數據\n",
    "- Bqplot : 設計金融圖表 \n",
    "- Bqviz : 快速設計圖表 / 互動圖表\n",
    "\n",
    "\n",
    "- Pandas\n",
    "- Numpy\n",
    "- Scipy\n",
    "- Ipywidget\n",
    "- Scikit-learn 等等\n",
    "\n",
    "### 導入套件 Import  \"package name\"###\n",
    "\n",
    "<img src=\"http://www.focusedsupport.com/blog/content/images/2016/04/python_ecosystem-1.png\" style=\"width:400px;\" />\n",
    "\n",
    "```python\n",
    "import numpy as np\n",
    "import pandas as pd\n",
    "import ipywidgets as ipw\n",
    "```"
   ]
  },
  {
   "cell_type": "code",
   "execution_count": null,
   "metadata": {
    "collapsed": false,
    "deletable": true,
    "editable": true
   },
   "outputs": [],
   "source": []
  },
  {
   "cell_type": "markdown",
   "metadata": {
    "deletable": true,
    "editable": true
   },
   "source": [
    "### Pandas ###\n",
    "\n",
    "Pandas = Python Data Analysis Library\n",
    "\n",
    "Import Pandas (```pd``` 是 pandas 官方的縮寫, 可以令之後的程序更整潔)\n",
    "\n",
    "```python\n",
    "import pandas as pd\n",
    "```\n",
    "\n",
    "在 Pandas 中主要有兩大資料結構：Series、DataFrame\n",
    "\n",
    "Series 類似於 Python 本身的 list 資料結構，不同的是每個元素有自己的 index（可以自己命名）\n",
    "\n",
    "```python\n",
    "s1 = pd.Series(['2330 TT Equity', 'FB US Equity', '6505 TT Equity'])\n",
    "print(s1)\n",
    "```\n",
    "\n",
    "跟 list 一樣, 使用索引 (index) 來取得元素\n",
    "```python\n",
    "print(s1[5])\n",
    "```\n",
    "\n",
    "\n",
    "\n"
   ]
  },
  {
   "cell_type": "code",
   "execution_count": null,
   "metadata": {
    "collapsed": false,
    "deletable": true,
    "editable": true
   },
   "outputs": [],
   "source": []
  },
  {
   "cell_type": "code",
   "execution_count": null,
   "metadata": {
    "collapsed": false,
    "deletable": true,
    "editable": true
   },
   "outputs": [],
   "source": []
  },
  {
   "cell_type": "markdown",
   "metadata": {
    "deletable": true,
    "editable": true
   },
   "source": [
    "Pandas DataFrame 類似 EXCEL 表格, 可以儲存不同的資料型別 (int, float, string ...)\n",
    "```python\n",
    "df = pd.read_csv(\"WorldCupMatches.csv\")\n",
    "df.head() # 展示首 5 個列\n",
    "```\n",
    "\n",
    "<img src=\"https://github.com/dummytutorialtt/python101/blob/master/image/df_head.JPG?raw=true\" style=\"width:800px;\" />"
   ]
  },
  {
   "cell_type": "code",
   "execution_count": null,
   "metadata": {
    "collapsed": true,
    "deletable": true,
    "editable": true
   },
   "outputs": [],
   "source": []
  },
  {
   "cell_type": "markdown",
   "metadata": {
    "deletable": true,
    "editable": true
   },
   "source": [
    "觀察資料型態、結構、內容值\n",
    "```python\n",
    "# 資料類型\n",
    "print(df.dtypes) # 注意, 擁有 string 的列的資料類型都是 object, 在 pandas 上 object 跟 string 對用戶來說非常類似\n",
    "\n",
    "# 讀取某一列\n",
    "one_col = df['Attendance'] # df['列的名稱']\n",
    "\n",
    "# 印出基本敘述統計數據\n",
    "print(df.describe())\n",
    "```\n"
   ]
  },
  {
   "cell_type": "code",
   "execution_count": null,
   "metadata": {
    "collapsed": false,
    "deletable": true,
    "editable": true
   },
   "outputs": [],
   "source": []
  },
  {
   "cell_type": "markdown",
   "metadata": {
    "deletable": true,
    "editable": true
   },
   "source": [
    "\n",
    "表格出現問題! 在欄 \"Attendance\"(觀看人數) 只有 850 列是有值, 但球賽場數是852, 有兩場比賽是缺乏了觀看人數的 !\n",
    "\n",
    "處理遺失資料\n",
    "```python\n",
    "# 找出觀看人數的平均值, 填補'Attendance'中的空白值\n",
    "mean_all_column = df.mean() # 以 series 傳回所有 column 的平均值\n",
    "mean_attend = mean_all_column['Attendance'] # 再使用 index 內的名字去取 \"Attendance\" 的平均值\n",
    "\n",
    "col_need_to_fix = df['Attendance'] # 把需要改正的列抽出來\n",
    "df['Attendance'] = col_need_to_fix.fillna() # 把這個列改正之後, 重新傳到 df column 這個變數上\n",
    "\n",
    "# 或者直接刪除沒有數據的行\n",
    "df = df.dropna()\n",
    "```"
   ]
  },
  {
   "cell_type": "code",
   "execution_count": null,
   "metadata": {
    "collapsed": true,
    "deletable": true,
    "editable": true
   },
   "outputs": [],
   "source": []
  },
  {
   "cell_type": "code",
   "execution_count": null,
   "metadata": {
    "collapsed": true,
    "deletable": true,
    "editable": true
   },
   "outputs": [],
   "source": []
  },
  {
   "cell_type": "markdown",
   "metadata": {
    "deletable": true,
    "editable": true
   },
   "source": [
    "其他常用的統計數據函數\n",
    "```python\n",
    "dataframe.max()\n",
    "dataframe.mean()\n",
    "dataframe.medium()\n",
    "dataframe.sum()\n",
    "dataframe.cumsum() # 累計總和\n",
    "dataframe.std() # 標準差\n",
    "dataframe.count()\n",
    "```\n",
    "\n",
    "插入新的欄 / 新增資料 (1)\n",
    "\n",
    "\n",
    "```python\n",
    "# 簡單方法\n",
    "df['Net Goal Difference'] = df['Home Team Goals'] - df['Away Team Goals'] # df['新列的名字'] = ...\n",
    "```"
   ]
  },
  {
   "cell_type": "code",
   "execution_count": null,
   "metadata": {
    "collapsed": true,
    "deletable": true,
    "editable": true
   },
   "outputs": [],
   "source": []
  },
  {
   "cell_type": "code",
   "execution_count": null,
   "metadata": {
    "collapsed": true,
    "deletable": true,
    "editable": true
   },
   "outputs": [],
   "source": []
  },
  {
   "cell_type": "markdown",
   "metadata": {
    "deletable": true,
    "editable": true
   },
   "source": [
    "插入新的欄 / 新增資料 (2) : Apply() 函數\n",
    "\n",
    "- 先設定一個 apply 函數, 這個函數會被應用在 Dataframe 裡的每一列, 並回傳結果\n",
    "- 再使用 dataframe.apply() 去使用這個函數\n",
    "\n",
    "```python\n",
    "# 先訂立 apply 函數\n",
    "def goal_more_than_5(x): # x 代表每一個行\n",
    "\n",
    "    total_goal = x['Home Team Goals'] + x['Away Team Goals'] # 先計算每一行的總入球量\n",
    "    \n",
    "    if total_goal > 5: # 假如入超過五球\n",
    "        return True # 回傳 True\n",
    "    else:\n",
    "        return False # 回傳 False\n",
    "\n",
    "df['Goal More Than 5'] = df.apply(goal_more_than_5) # df['新欄的名字'] = ...\n",
    "```"
   ]
  },
  {
   "cell_type": "code",
   "execution_count": null,
   "metadata": {
    "collapsed": true,
    "deletable": true,
    "editable": true
   },
   "outputs": [],
   "source": []
  },
  {
   "cell_type": "markdown",
   "metadata": {
    "deletable": true,
    "editable": true
   },
   "source": [
    "繪圖\n",
    "```python\n",
    "# 要先打這句, 圖才會直接顯示在網頁之中\n",
    "%matplotlib inline \n",
    "# 把歷年觀看人數印出圖表\n",
    "df['Attendance'].plot()\n",
    "```\n",
    "\n",
    "\n",
    "輸出檔案\n",
    "```python\n",
    "pivot_df.to_csv(\"隊伍對決資料.csv\")\n",
    "```"
   ]
  },
  {
   "cell_type": "code",
   "execution_count": null,
   "metadata": {
    "collapsed": true,
    "deletable": true,
    "editable": true
   },
   "outputs": [],
   "source": []
  },
  {
   "cell_type": "markdown",
   "metadata": {
    "deletable": true,
    "editable": true
   },
   "source": [
    "\n",
    "樞紐分析表(Pivot Tables)\n",
    "```python\n",
    "# Data = 原始資料表, values = 值 / 會被整合的數據, index = 列標籤\n",
    "pivot_df = pd.pivot_table(data = df, values=\"Home Team Goals\", index=\"Home Team Name\") \n",
    "```"
   ]
  },
  {
   "cell_type": "code",
   "execution_count": null,
   "metadata": {
    "collapsed": true,
    "deletable": true,
    "editable": true
   },
   "outputs": [],
   "source": []
  },
  {
   "cell_type": "markdown",
   "metadata": {
    "deletable": true,
    "editable": true
   },
   "source": [
    "*練習:*\n",
    "\n",
    "使用世界杯數據的 Dataframe\n",
    "\n",
    "- 制作樞紐分析表, 加總每一屆的觀看人數\n",
    "- 使用 .plot 把每屆觀看總人數顯示出來\n",
    "\n",
    "提示: 想不到的時候, 嘗試加一個 cell 並輸入 df.head() 去了解這個 dataframe"
   ]
  },
  {
   "cell_type": "code",
   "execution_count": null,
   "metadata": {
    "collapsed": false,
    "deletable": true,
    "editable": true
   },
   "outputs": [],
   "source": [
    "# 首先讓我們重新讀取 Excel 放入 df 這個變數裡\n",
    "df = pd.read_csv(\"WorldCupMatches.csv\")\n",
    "#======練習 (把你的編碼填在這裡)======\n",
    "# 先打 pivot table 的指令 (1 line of code)\n",
    "attend_per_year = pd.pivot_table(data = df)\n",
    "\n",
    "# 再使用 .plot (1 line of code)\n",
    "\n",
    "#======練習 (把你的編碼填在這裡)======"
   ]
  },
  {
   "cell_type": "markdown",
   "metadata": {
    "collapsed": true,
    "deletable": true,
    "editable": true
   },
   "source": [
    "了解更多 Pandas 基本程序\n",
    "\n",
    "- http://pandas.pydata.org/pandas-docs/stable/10min.html"
   ]
  },
  {
   "cell_type": "markdown",
   "metadata": {
    "collapsed": true,
    "deletable": true,
    "editable": true
   },
   "source": [
    "### Ipywidget 互動 ###\n",
    "\n",
    "Ipywidget 可以讓開發者設計超炫的互動, 非常容易就可以展示一個互動的數據分析 Dashboard\n",
    "\n",
    "```python\n",
    "from ipywidgets import interact\n",
    "\n",
    "def f(x):\n",
    "    return(x)\n",
    "\n",
    "interact(f, x=1)\n",
    "```\n",
    "\n",
    "所有的 widgets 都可以在 http://ipywidgets.readthedocs.io/en/latest/examples/Widget%20List.html 看到"
   ]
  },
  {
   "cell_type": "code",
   "execution_count": null,
   "metadata": {
    "collapsed": false,
    "deletable": true,
    "editable": true
   },
   "outputs": [],
   "source": []
  },
  {
   "cell_type": "markdown",
   "metadata": {
    "deletable": true,
    "editable": true
   },
   "source": [
    "把 ipywidget 套用到世界盃的分析吧!\n",
    "\n",
    "\n",
    "```python\n",
    "from ipywidgets import interact\n",
    "import matplotlib.pyplot as plt\n",
    "\n",
    "def f(x):\n",
    "    country_selected = df[df['Home Team Name'] == x].copy() # 把選擇的球隊的列從 df 過濾出來\n",
    "    pivot_show = pd.pivot_table(country_selected, values ='Attendance', index='Year') # 使用 pivot table 加總該國家每年的觀看人數\n",
    "    \n",
    "    plt.plot(pivot_show) # 制圖\n",
    "    plt.show() # 並顯示出來\n",
    "    \n",
    "option = interact(f, x=df['Home Team Name'].unique()) # 最後把 interact 顯示出來\n",
    "```"
   ]
  },
  {
   "cell_type": "code",
   "execution_count": null,
   "metadata": {
    "collapsed": true,
    "deletable": true,
    "editable": true
   },
   "outputs": [],
   "source": []
  },
  {
   "cell_type": "markdown",
   "metadata": {
    "deletable": true,
    "editable": true
   },
   "source": [
    "### Part 3 - 彭博計量金融工具 Bloomberg Exclusive library ###\n",
    "\n",
    "這個部份會直接使用 BQuant 作為示範"
   ]
  },
  {
   "cell_type": "markdown",
   "metadata": {
    "deletable": true,
    "editable": true
   },
   "source": [
    "### Part 4 - Capstone Project\n",
    "\n",
    "使用 `stock_data_eps.csv` 找出行業平均盈餘意外\n",
    "\n",
    "1. 導入 pandas, 並讀取 stock_data_eps.csv\n",
    "3. 增加新的欄 (column) 名為 \"Surprise\", 計算為 \"EPS Actual\" 減掉 \"EPS Estimate\"\n",
    "4. 把不同行業的平均盈餘意外計算出來\n",
    "5. 把圖像顯示在 output box 內"
   ]
  },
  {
   "cell_type": "code",
   "execution_count": 3,
   "metadata": {
    "collapsed": false,
    "deletable": true,
    "editable": true
   },
   "outputs": [
    {
     "data": {
      "text/plain": [
       "<matplotlib.axes._subplots.AxesSubplot at 0x8e7e9e8>"
      ]
     },
     "execution_count": 3,
     "metadata": {},
     "output_type": "execute_result"
    },
    {
     "data": {
      "image/png": "[encoded data removed]",
      "text/plain": [
       "<matplotlib.figure.Figure at 0x9072940>"
      ]
     },
     "metadata": {},
     "output_type": "display_data"
    }
   ],
   "source": [
    "%matplotlib inline\n",
    "import pandas as pd\n",
    "#======練習 (把你的編碼填在這裡)======\n",
    "df = pd.read_csv(\"stock_data_eps.csv\")\n",
    "\n",
    "df['Surprise'] = df['EPS Actual'] - df['EPS Estimate']\n",
    "\n",
    "pivot_df = pd.pivot_table(data=df, values='Surprise', index='GICS_SECTOR_NAME')\n",
    "\n",
    "pivot_df.plot(kind='bar')\n",
    "#======練習 (把你的編碼填在這裡)======"
   ]
  },
  {
   "cell_type": "code",
   "execution_count": null,
   "metadata": {
    "collapsed": true
   },
   "outputs": [],
   "source": []
  }
 ],
 "metadata": {
  "input_collapsed": false,
  "kernelspec": {
   "display_name": "Python 3 (sandboxed)",
   "language": "python",
   "name": "python3"
  },
  "language_info": {
   "codemirror_mode": {
    "name": "ipython",
    "version": 3
   },
   "file_extension": ".py",
   "mimetype": "text/x-python",
   "name": "python",
   "nbconvert_exporter": "python",
   "pygments_lexer": "ipython3",
   "version": "3.5.5"
  }
 },
 "nbformat": 4,
 "nbformat_minor": 0
}
